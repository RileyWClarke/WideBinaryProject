{
 "cells": [
  {
   "cell_type": "code",
   "execution_count": 72,
   "metadata": {
    "collapsed": true
   },
   "outputs": [],
   "source": [
    "%matplotlib inline\n",
    "import numpy as np\n",
    "import matplotlib \n",
    "import matplotlib.pyplot as plt\n",
    "from matplotlib.patches import Ellipse"
   ]
  },
  {
   "cell_type": "code",
   "execution_count": 73,
   "metadata": {
    "collapsed": true
   },
   "outputs": [],
   "source": [
    "matplotlib.rcParams.update({'font.size':18}) \n",
    "matplotlib.rcParams.update({'font.family':'serif'})"
   ]
  },
  {
   "cell_type": "markdown",
   "metadata": {},
   "source": [
    "Reading in files:"
   ]
  },
  {
   "cell_type": "code",
   "execution_count": 74,
   "metadata": {
    "collapsed": false
   },
   "outputs": [],
   "source": [
    "Kep_ID, Pair_ID, Gal_Prob, Photo_Dist, Pair_Dist = np.loadtxt ('kolby-data.txt', usecols=(0,1,2,3,4), unpack=True)"
   ]
  },
  {
   "cell_type": "code",
   "execution_count": 75,
   "metadata": {
    "collapsed": true
   },
   "outputs": [],
   "source": [
    "row, Lfl_Lbol, giclr, kicnum = np.genfromtxt('kic_lflare.csv', delimiter = ',', unpack = True)\n",
    "\n",
    "x=np.where((Lfl_Lbol < 1e-15))\n",
    "Lfl_Lbol[x]=1e-15"
   ]
  },
  {
   "cell_type": "code",
   "execution_count": 76,
   "metadata": {
    "collapsed": false
   },
   "outputs": [],
   "source": [
    "Kepler_ID, dist, sep, gi = np.genfromtxt('Kepler_WDS_Slowpokes.csv', usecols=(0,13,15,26), delimiter = ',', unpack = True)\n",
    "#From 3/23/2017 updated candidate list "
   ]
  },
  {
   "cell_type": "code",
   "execution_count": 77,
   "metadata": {
    "collapsed": false
   },
   "outputs": [],
   "source": [
    "NewKep_ID = np.append(Kep_ID,Kepler_ID) #Appending the updated list to old lists\n",
    "NewPair_Dist = np.append(Pair_Dist,sep)\n",
    "NewPhoto_Dist = np.append(Photo_Dist, dist)"
   ]
  },
  {
   "cell_type": "code",
   "execution_count": 78,
   "metadata": {
    "collapsed": false
   },
   "outputs": [
    {
     "data": {
      "text/plain": [
       "1673"
      ]
     },
     "execution_count": 78,
     "metadata": {},
     "output_type": "execute_result"
    }
   ],
   "source": [
    "len(NewKep_ID)"
   ]
  },
  {
   "cell_type": "markdown",
   "metadata": {},
   "source": [
    "Matching Datasets:"
   ]
  },
  {
   "cell_type": "code",
   "execution_count": 79,
   "metadata": {
    "collapsed": false
   },
   "outputs": [
    {
     "data": {
      "text/plain": [
       "array([132675, 132661, 144449, ..., 172657, 172657, 164000])"
      ]
     },
     "execution_count": 79,
     "metadata": {},
     "output_type": "execute_result"
    }
   ],
   "source": [
    "m = np.array(np.zeros(len(NewKep_ID)), dtype='int')\n",
    "\n",
    "for k in range (len(NewKep_ID)):\n",
    "    x = np.where((NewKep_ID[k] == kicnum))\n",
    "    m[k] = x[0]\n",
    "#     NewKep_ID == kicnum[x]\n",
    "    \n",
    "m\n",
    "# in database speak, this a Join (Inner Join)\n",
    "# NewKep_ID == kicnum[m]\n"
   ]
  },
  {
   "cell_type": "code",
   "execution_count": 80,
   "metadata": {
    "collapsed": false
   },
   "outputs": [
    {
     "data": {
      "text/plain": [
       "1673"
      ]
     },
     "execution_count": 80,
     "metadata": {},
     "output_type": "execute_result"
    }
   ],
   "source": [
    "len(m)"
   ]
  },
  {
   "cell_type": "code",
   "execution_count": 81,
   "metadata": {
    "collapsed": false
   },
   "outputs": [
    {
     "data": {
      "text/plain": [
       "array([ True,  True,  True, ...,  True,  True,  True], dtype=bool)"
      ]
     },
     "execution_count": 81,
     "metadata": {},
     "output_type": "execute_result"
    }
   ],
   "source": [
    "kicnum[m] == NewKep_ID"
   ]
  },
  {
   "cell_type": "markdown",
   "metadata": {},
   "source": [
    "Distinguishing primary stars from secondary stars:"
   ]
  },
  {
   "cell_type": "code",
   "execution_count": 82,
   "metadata": {
    "collapsed": true
   },
   "outputs": [],
   "source": [
    "a = np.arange(0,1094,2)\n",
    "b = np.arange(1,1094,2)\n",
    "\n",
    "for j in range(0,len(a)):\n",
    "    if giclr[m][a[j]] > giclr[m][b[j]]:\n",
    "        tmp = a[j]\n",
    "        a[j] = b[j]\n",
    "        b[j] = tmp"
   ]
  },
  {
   "cell_type": "markdown",
   "metadata": {},
   "source": [
    "Converting pair distances to AU:"
   ]
  },
  {
   "cell_type": "code",
   "execution_count": 83,
   "metadata": {
    "collapsed": false
   },
   "outputs": [
    {
     "name": "stdout",
     "output_type": "stream",
     "text": [
      "31009.031253\n"
     ]
    }
   ],
   "source": [
    "AU_dist = NewPair_Dist/3600.*np.pi/180. * NewPhoto_Dist * 206265.\n",
    "AU_cut = np.where(AU_dist < 120000)\n",
    "print(np.mean(AU_dist[AU_cut]))"
   ]
  },
  {
   "cell_type": "markdown",
   "metadata": {},
   "source": [
    "Filtering for minium flare luminosity, probability of chance alignment, and pair separation:"
   ]
  },
  {
   "cell_type": "code",
   "execution_count": 84,
   "metadata": {
    "collapsed": false
   },
   "outputs": [],
   "source": [
    "#GP_cut = 0.01\n",
    "#FL_cut = 1e-6.5"
   ]
  },
  {
   "cell_type": "code",
   "execution_count": 85,
   "metadata": {
    "collapsed": false
   },
   "outputs": [
    {
     "name": "stdout",
     "output_type": "stream",
     "text": [
      "42\n"
     ]
    }
   ],
   "source": [
    "Good_both_a2 = np.where((Lfl_Lbol[m][a]>1e-7)  & (Gal_Prob[a]>0.001) & (AU_dist[a] < 120000))\n",
    "Good_both_b2 = np.where((Lfl_Lbol[m][b]>1e-7)  & (Gal_Prob[b]>0.001) & (AU_dist[b] < 120000))\n",
    "\n",
    "Good_either2 = np.where(((Lfl_Lbol[m][a] > 1e-7) | (Lfl_Lbol[m][b] > 1e-7)) & \n",
    "                        ((Lfl_Lbol[m][a] > 1e-15) & (Lfl_Lbol[m][b] > 1e-15)) &\n",
    "                        (Gal_Prob[a] < 0.01) & \n",
    "                        (AU_dist[a] < 120000))\n",
    "print(np.size(Good_either2))"
   ]
  },
  {
   "cell_type": "markdown",
   "metadata": {},
   "source": [
    "Output figures:"
   ]
  },
  {
   "cell_type": "code",
   "execution_count": 86,
   "metadata": {
    "collapsed": false
   },
   "outputs": [
    {
     "data": {
      "image/png": "[encoded data removed]",
      "text/plain": [
       "<matplotlib.figure.Figure at 0x10a0ef2b0>"
      ]
     },
     "metadata": {},
     "output_type": "display_data"
    }
   ],
   "source": [
    "plt.figure(figsize=(11,8))\n",
    "plt.hist(AU_dist, bins=50)\n",
    "plt.xlabel('Separation (AU)')\n",
    "plt.ylabel('# of binaries')\n",
    "plt.savefig('PairDistances')"
   ]
  },
  {
   "cell_type": "code",
   "execution_count": 87,
   "metadata": {
    "collapsed": false
   },
   "outputs": [
    {
     "data": {
      "image/png": "[encoded data removed]",
      "text/plain": [
       "<matplotlib.figure.Figure at 0x109d3bcf8>"
      ]
     },
     "metadata": {},
     "output_type": "display_data"
    }
   ],
   "source": [
    "plt.figure(figsize=(11,8))\n",
    "plt.hist((AU_dist[AU_cut]), bins = 50)\n",
    "plt.plot([64088.9,64088.9],[0,25],'r')\n",
    "plt.xlabel('Pair Distances (AU)')\n",
    "plt.ylabel('# of binaries')\n",
    "plt.savefig('AU_pairdist')"
   ]
  },
  {
   "cell_type": "code",
   "execution_count": 88,
   "metadata": {
    "collapsed": false
   },
   "outputs": [
    {
     "name": "stderr",
     "output_type": "stream",
     "text": [
      "/Users/Riley/anaconda/lib/python3.5/site-packages/matplotlib/collections.py:590: FutureWarning: elementwise comparison failed; returning scalar instead, but in the future will perform elementwise comparison\n",
      "  if self._edgecolors == str('face'):\n"
     ]
    },
    {
     "data": {
      "image/png": "[encoded data removed]",
      "text/plain": [
       "<matplotlib.figure.Figure at 0x109da0cf8>"
      ]
     },
     "metadata": {},
     "output_type": "display_data"
    }
   ],
   "source": [
    "plt.figure(figsize=(9,7))\n",
    "\n",
    "# plt.plot(np.log10(Lfl_Lbol[m][a][Good_both_a2]), np.log10(Lfl_Lbol[m][b][Good_both_a2]), 'ro', alpha = 0.6)\n",
    "# plt.plot(np.log10(Lfl_Lbol[m][a][Good_both_b2]), np.log10(Lfl_Lbol[m][b][Good_both_b2]), 'bo', alpha = 0.6)\n",
    "plt.scatter(np.log10(Lfl_Lbol[m][a][Good_either2]), np.log10(Lfl_Lbol[m][b][Good_either2]), alpha = 0.6, s=80, \n",
    "            c='r', label='Flare candidate pairs')\n",
    "\n",
    "# plt.text(-4,-3,'N=')\n",
    "\n",
    "plt.scatter(np.log10(Lfl_Lbol[m][a]+1e-10), np.log10(Lfl_Lbol[m][b]+1e-10), s=5, c='k', alpha=0.2, \n",
    "            label='Kepler wide binary pairs')\n",
    "plt.legend(fontsize=10, loc=2)\n",
    "\n",
    "plt.plot([-11,-2], [-11,-2], lw=3, alpha=0.5)\n",
    "\n",
    "plt.xlim(-11, -2)\n",
    "plt.ylim(-11, -2)\n",
    "plt.xlabel(r'log $L_{fl}/L_{kp}$ (A component)')\n",
    "plt.ylabel(r'log $L_{fl}/L_{kp}$ (B component)')\n",
    "\n",
    "plt.savefig('AB_new.png',dpi=500)"
   ]
  },
  {
   "cell_type": "code",
   "execution_count": 89,
   "metadata": {
    "collapsed": false
   },
   "outputs": [
    {
     "name": "stdout",
     "output_type": "stream",
     "text": [
      "0.7055\n"
     ]
    }
   ],
   "source": [
    "gi_redcut= np.where(giclr[m][a][Good_either2] <= np.median(giclr[m][a][Good_either2]))\n",
    "gi_bluecut= np.where(giclr[m][a][Good_either2] > np.median(giclr[m][a][Good_either2]))                    \n",
    "print(np.median(giclr[m][a][Good_either2]))"
   ]
  },
  {
   "cell_type": "code",
   "execution_count": 90,
   "metadata": {
    "collapsed": false
   },
   "outputs": [
    {
     "data": {
      "text/plain": [
       "21"
      ]
     },
     "execution_count": 90,
     "metadata": {},
     "output_type": "execute_result"
    }
   ],
   "source": [
    "np.size(gi_bluecut)"
   ]
  },
  {
   "cell_type": "code",
   "execution_count": 91,
   "metadata": {
    "collapsed": false
   },
   "outputs": [
    {
     "name": "stderr",
     "output_type": "stream",
     "text": [
      "/Users/Riley/anaconda/lib/python3.5/site-packages/matplotlib/collections.py:590: FutureWarning: elementwise comparison failed; returning scalar instead, but in the future will perform elementwise comparison\n",
      "  if self._edgecolors == str('face'):\n"
     ]
    },
    {
     "data": {
      "image/png": "[encoded data removed]",
      "text/plain": [
       "<matplotlib.figure.Figure at 0x109f304e0>"
      ]
     },
     "metadata": {},
     "output_type": "display_data"
    }
   ],
   "source": [
    "plt.figure(figsize=(11,8))\n",
    "plt.scatter(giclr[m][b][Good_either2][gi_redcut] - giclr[m][a][Good_either2][gi_redcut],\n",
    "            np.log10(Lfl_Lbol[m][b][Good_either2][gi_redcut]/Lfl_Lbol[m][a][Good_either2][gi_redcut]), \n",
    "            c='r', alpha=0.5,s=80)\n",
    "\n",
    "plt.scatter(giclr[m][b][Good_either2][gi_bluecut] - giclr[m][a][Good_either2][gi_bluecut],\n",
    "            np.log10(Lfl_Lbol[m][b][Good_either2][gi_bluecut]/Lfl_Lbol[m][a][Good_either2][gi_bluecut]),\n",
    "            c='b', alpha=0.5,s=80)\n",
    "plt.xlim(0,2)\n",
    "plt.ylim(-5,  5)\n",
    "plt.plot([-2,2],[0,0], color = 'k')\n",
    "plt.xlabel('$\\Delta g-i$ (mag, B-A)')\n",
    "# plt.ylabel('[$L_{fl}/L_{kp}$ B] / [$L_{fl}/L_{kp}$A]')\n",
    "plt.ylabel(r'$\\Delta$ log $L_{fl}/L_{Kp}$ (B-A)' )\n",
    "# plt.yscale('log')\n",
    "\n",
    "\n",
    "redstd = np.std(np.log10(Lfl_Lbol[m][b][Good_either2][gi_redcut] / Lfl_Lbol[m][a][Good_either2][gi_redcut]))\n",
    "plt.errorbar(1.95,0,redstd, color='r', ecolor='r', lw=3, mew=3)\n",
    "\n",
    "bluestd = np.std(np.log10(Lfl_Lbol[m][b][Good_either2][gi_bluecut] / Lfl_Lbol[m][a][Good_either2][gi_bluecut]))\n",
    "plt.errorbar(1.9,0,bluestd, color='b', ecolor='b', lw=3, mew=3)\n",
    "\n",
    "\n",
    "\n",
    "plt.savefig('Color_diagram_v3',dpi=500)"
   ]
  },
  {
   "cell_type": "code",
   "execution_count": 92,
   "metadata": {
    "collapsed": true
   },
   "outputs": [],
   "source": [
    "lcurve1 = np.where(Lfl_Lbol[m][a][Good_either2] > 1e-4)"
   ]
  },
  {
   "cell_type": "code",
   "execution_count": 93,
   "metadata": {
    "collapsed": false
   },
   "outputs": [
    {
     "name": "stdout",
     "output_type": "stream",
     "text": [
      "[ 0.00014824]\n"
     ]
    }
   ],
   "source": [
    "print(Lfl_Lbol[m][a][Good_either2][lcurve1])"
   ]
  },
  {
   "cell_type": "code",
   "execution_count": 94,
   "metadata": {
    "collapsed": false
   },
   "outputs": [
    {
     "name": "stdout",
     "output_type": "stream",
     "text": [
      "[ 5083330.] [ 5083480.]\n"
     ]
    }
   ],
   "source": [
    "print(Kep_ID[a][Good_either2][lcurve1],Kep_ID[b][Good_either2][lcurve1])"
   ]
  },
  {
   "cell_type": "code",
   "execution_count": 95,
   "metadata": {
    "collapsed": false
   },
   "outputs": [
    {
     "name": "stdout",
     "output_type": "stream",
     "text": [
      "[  1.00000000e-15] [  1.00000000e-15]\n"
     ]
    }
   ],
   "source": [
    "print(Lfl_Lbol[a][Good_either2][lcurve1],Lfl_Lbol[b][Good_either2][lcurve1])"
   ]
  },
  {
   "cell_type": "code",
   "execution_count": 96,
   "metadata": {
    "collapsed": true
   },
   "outputs": [],
   "source": [
    "lcurve2 = np.where(Lfl_Lbol[m][b][Good_either2] > 1e-5)"
   ]
  },
  {
   "cell_type": "code",
   "execution_count": 97,
   "metadata": {
    "collapsed": false
   },
   "outputs": [
    {
     "name": "stdout",
     "output_type": "stream",
     "text": [
      "[  5.56544926e-06] [  6.00367715e-05]\n"
     ]
    }
   ],
   "source": [
    "print(Lfl_Lbol[m][a][Good_either2][lcurve2],Lfl_Lbol[m][b][Good_either2][lcurve2])"
   ]
  },
  {
   "cell_type": "code",
   "execution_count": 98,
   "metadata": {
    "collapsed": false
   },
   "outputs": [
    {
     "name": "stdout",
     "output_type": "stream",
     "text": [
      "[ 2834564.] [ 2834637.]\n"
     ]
    }
   ],
   "source": [
    "print(Kep_ID[a][Good_either2][lcurve2],Kep_ID[b][Good_either2][lcurve2])"
   ]
  },
  {
   "cell_type": "code",
   "execution_count": null,
   "metadata": {
    "collapsed": true
   },
   "outputs": [],
   "source": []
  },
  {
   "cell_type": "code",
   "execution_count": null,
   "metadata": {
    "collapsed": false
   },
   "outputs": [
    {
     "data": {
      "text/plain": [
       "<matplotlib.text.Text at 0x109d72240>"
      ]
     },
     "execution_count": 99,
     "metadata": {},
     "output_type": "execute_result"
    },
    {
     "name": "stderr",
     "output_type": "stream",
     "text": [
      "/Users/Riley/anaconda/lib/python3.5/site-packages/matplotlib/collections.py:590: FutureWarning: elementwise comparison failed; returning scalar instead, but in the future will perform elementwise comparison\n",
      "  if self._edgecolors == str('face'):\n"
     ]
    },
    {
     "data": {
      "image/png": "[encoded data removed]",
      "text/plain": [
       "<matplotlib.figure.Figure at 0x10a004cf8>"
      ]
     },
     "metadata": {},
     "output_type": "display_data"
    }
   ],
   "source": [
    "plt.figure(figsize=(9,7))\n",
    "\n",
    "# plt.plot(np.log10(Lfl_Lbol[m][a][Good_both_a2]), np.log10(Lfl_Lbol[m][b][Good_both_a2]), 'ro', alpha = 0.6)\n",
    "# plt.plot(np.log10(Lfl_Lbol[m][a][Good_both_b2]), np.log10(Lfl_Lbol[m][b][Good_both_b2]), 'bo', alpha = 0.6)\n",
    "plt.scatter(np.log10(Lfl_Lbol[m][a][Good_either2][lcurve1]), np.log10(Lfl_Lbol[m][b][Good_either2][lcurve1]), alpha = 0.6, s=80, \n",
    "            c='r', label='Flare candidate pairs')\n",
    "\n",
    "plt.scatter(np.log10(Lfl_Lbol[m][a][Good_either2][lcurve2]), np.log10(Lfl_Lbol[m][b][Good_either2][lcurve2]), alpha = 0.6, s=80, \n",
    "            c='r', label='Flare candidate pairs')\n",
    "\n",
    "# plt.text(-4,-3,'N=')\n",
    "\n",
    "#plt.scatter(np.log10(Lfl_Lbol[m][a]+1e-10), np.log10(Lfl_Lbol[m][b]+1e-10), s=5, c='k', alpha=0.2, \n",
    "            #label='Kepler wide binary pairs')\n",
    "plt.legend(fontsize=10, loc=2)\n",
    "\n",
    "plt.plot([-11,-2], [-11,-2], lw=3, alpha=0.5)\n",
    "\n",
    "plt.xlim(-11, -2)\n",
    "plt.ylim(-11, -2)\n",
    "plt.xlabel(r'log $L_{fl}/L_{kp}$ (A component)')\n",
    "plt.ylabel(r'log $L_{fl}/L_{kp}$ (B component)')\n",
    "\n"
   ]
  },
  {
   "cell_type": "code",
   "execution_count": null,
   "metadata": {
    "collapsed": false
   },
   "outputs": [],
   "source": [
    "fig = plt.figure(figsize=(9,7))\n",
    "ax = fig.add_subplot(111)\n",
    "\n",
    "plt.scatter(giclr[m][a][Good_either2],np.log10(Lfl_Lbol[m][a][Good_either2]),alpha = 0.6,s=80,c='r')\n",
    "plt.scatter(giclr[m][b][Good_either2],np.log10(Lfl_Lbol[m][b][Good_either2]),alpha = 0.6,s=80,c='r')\n",
    "for k in range (len(Good_either2[0])):\n",
    "    plt.plot([giclr[m][a][Good_either2],giclr[m][b][Good_either2]],[np.log10(Lfl_Lbol[m][a][Good_either2]),np.log10(Lfl_Lbol[m][b][Good_either2])],'k',lw=0.2,alpha=0.2)\n",
    "    \n",
    "    \n",
    "#plt.xlim(0,2)\n",
    "#plt.ylim(-10,5)\n",
    "\n",
    "#el = Ellipse((0, 0), 10, 20, facecolor='r', alpha=0.5, fill=false)\n",
    "#ax = fig.add_subplot(111, aspect='equal')\n",
    "#ax.add_artist(el)\n",
    "\n",
    "ax.text(1.9,-3.9, r'A', fontsize=15)\n",
    "ax.text(1.95,-5, r'B', fontsize=15)\n",
    "\n",
    "plt.ylabel(r'log $L_{fl}/L_{kp}$')\n",
    "plt.xlabel(r'$g-i$ (mag)')\n",
    "\n",
    "plt.savefig('PairPlot.png',dpi=500)\n"
   ]
  },
  {
   "cell_type": "code",
   "execution_count": null,
   "metadata": {
    "collapsed": false
   },
   "outputs": [],
   "source": [
    "np.size(giclr[m][a][Good_either2])"
   ]
  },
  {
   "cell_type": "code",
   "execution_count": null,
   "metadata": {
    "collapsed": false
   },
   "outputs": [],
   "source": [
    "np.size(giclr[m][b][Good_either2])"
   ]
  },
  {
   "cell_type": "code",
   "execution_count": null,
   "metadata": {
    "collapsed": true
   },
   "outputs": [],
   "source": [
    "2834564"
   ]
  },
  {
   "cell_type": "code",
   "execution_count": null,
   "metadata": {
    "collapsed": true
   },
   "outputs": [],
   "source": []
  },
  {
   "cell_type": "code",
   "execution_count": null,
   "metadata": {
    "collapsed": true
   },
   "outputs": [],
   "source": []
  },
  {
   "cell_type": "code",
   "execution_count": null,
   "metadata": {
    "collapsed": true
   },
   "outputs": [],
   "source": []
  },
  {
   "cell_type": "code",
   "execution_count": null,
   "metadata": {
    "collapsed": true
   },
   "outputs": [],
   "source": []
  }
 ],
 "metadata": {
  "anaconda-cloud": {},
  "kernelspec": {
   "display_name": "Python 3",
   "language": "python",
   "name": "python3"
  },
  "language_info": {
   "codemirror_mode": {
    "name": "ipython",
    "version": 3
   },
   "file_extension": ".py",
   "mimetype": "text/x-python",
   "name": "python",
   "nbconvert_exporter": "python",
   "pygments_lexer": "ipython3",
   "version": "3.5.1"
  }
 },
 "nbformat": 4,
 "nbformat_minor": 0
}
